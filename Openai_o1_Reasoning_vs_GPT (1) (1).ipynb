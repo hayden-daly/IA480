{
 "cells": [
  {
   "cell_type": "markdown",
   "id": "a7f7f8f4-d37f-4886-ad2f-9a1d9661bd1b",
   "metadata": {},
   "source": [
    "# Analyzing Data and Interpreting Images with OpenAI's o1 Reasoning Model vs. GPT"
   ]
  },
  {
   "cell_type": "markdown",
   "id": "271a830d-95fd-4bb0-8156-f4ce5ee41f95",
   "metadata": {},
   "source": [
    "## Introduction\n",
    "OpenAI's o1 reasoning model is designed for complex problem-solving, data analysis, and image interpretation by simulating a multi-step thought process before generating responses. Unlike traditional GPT models, which produce output in a single pass, reasoning models use internal **reasoning tokens** to explore multiple approaches before finalizing an answer.\n",
    "<p align=\"center\">\n",
    "    <img src=\"https://cdn.openai.com/API/images/guides/reasoning_tokens.png\" alt=\"Reasoning Tokens\" width=\"600\">\n",
    "</p>  \n",
    "\n",
    "*Source: [OpenAI Reasoning Models Guide](https://platform.openai.com/docs/guides/reasoning)*\n",
    "\n",
    "**Key Differences: o1 Reasoning Model vs. GPT**\n",
    "- Multi-step reasoning: o1 evaluates different solutions before selecting the best response.\n",
    "- Deeper analytical capabilities: Optimized for complex data interpretation tasks.\n",
    "- Context-aware image analysis: Provides more structured and insightful image descriptions.\n",
    "- Reasoning Effort Control: Users can adjust the depth of reasoning (`low`, `medium`, `high`).\n",
    "\n",
    "\n",
    "For more details, refer to the [OpenAI Reasoning Models Guide](https://platform.openai.com/docs/guides/reasoning).\n"
   ]
  },
  {
   "cell_type": "markdown",
   "id": "aaa19529-a6a5-486b-802e-ddfb39fb85f1",
   "metadata": {},
   "source": [
    "## Purchase and Store API Key\n",
    "\n",
    "You need to **purchase** your [OpenAI](https://openai.com/) API key and store it securely, such as in **AWS Secrets Manager**.\n",
    "\n",
    "- **Key Name:** `api_key`  \n",
    "- **Key Value:** `<your OpenAI API key>`  \n",
    "- **Secret Name:** `openai`  "
   ]
  },
  {
   "cell_type": "markdown",
   "id": "5a126d9e-1487-4905-8cc0-5d55d1a06594",
   "metadata": {},
   "source": [
    "## Install Python Libraries\n",
    "\n",
    "- **openai**: Used to call `o1` and `GPT` models for data analysis and image interpretation."
   ]
  },
  {
   "cell_type": "code",
   "execution_count": 1,
   "id": "7f05dcb1-dab0-4a06-bf2b-c695a8d19d6d",
   "metadata": {},
   "outputs": [
    {
     "name": "stdout",
     "output_type": "stream",
     "text": [
      "Note: you may need to restart the kernel to use updated packages.\n"
     ]
    }
   ],
   "source": [
    "pip install openai -q"
   ]
  },
  {
   "cell_type": "markdown",
   "id": "ca255da8-7177-49e6-bff7-27501305b4f6",
   "metadata": {},
   "source": [
    "## Import Required Libraries\n",
    "\n",
    "The following libraries are used in this notebook:\n",
    "\n",
    "- **boto3**: AWS SDK for Python, used to interact with AWS services.\n",
    "- **json**: Standard Python library for handling JSON data.\n",
    "- **IPython.display**: Provides tools to display images, Markdown content, and other rich media in Jupyter Notebook.\n",
    "- **openai**: Used to call `o1` and `GPT` models for data analysis and image interpretation.\n",
    "- **pandas**: A powerful library for data manipulation and analysis.\n",
    "- **pprint**: Pretty prints data structures for better readability."
   ]
  },
  {
   "cell_type": "code",
   "execution_count": 2,
   "id": "5db0d630-749f-484e-8d01-79ec39e0e56e",
   "metadata": {
    "scrolled": true
   },
   "outputs": [],
   "source": [
    "import boto3\n",
    "import json\n",
    "from IPython.display import display, Image, Markdown\n",
    "from openai import OpenAI\n",
    "import pandas as pd\n",
    "from pprint import pprint"
   ]
  },
  {
   "cell_type": "markdown",
   "id": "ddd547f9-8c03-4673-a194-e71e01b38a3d",
   "metadata": {},
   "source": [
    "## Retrieve API Keys Securely from AWS Secrets Manager\n",
    "\n",
    "The following function, `get_secret()`, retrieves a secret from **AWS Secrets Manager**. This is a secure way to store and access sensitive credentials, such as API keys, without hardcoding them into the script"
   ]
  },
  {
   "cell_type": "code",
   "execution_count": 3,
   "id": "7fd3f543-0716-483c-88ce-b41f5fb418cb",
   "metadata": {},
   "outputs": [],
   "source": [
    "def get_secret(secret_name):\n",
    "    region_name = \"us-east-1\"\n",
    "\n",
    "    # Create a Secrets Manager client\n",
    "    session = boto3.session.Session()\n",
    "    client = session.client(\n",
    "        service_name='secretsmanager',\n",
    "        region_name=region_name\n",
    "    )\n",
    "\n",
    "    try:\n",
    "        get_secret_value_response = client.get_secret_value(\n",
    "            SecretId=secret_name\n",
    "        )\n",
    "    except ClientError as e:\n",
    "        raise e\n",
    "\n",
    "    secret = get_secret_value_response['SecretString']\n",
    "    \n",
    "    return json.loads(secret)"
   ]
  },
  {
   "cell_type": "markdown",
   "id": "e5711939-503e-44f6-bb28-0671c1131e26",
   "metadata": {},
   "source": [
    "## Initialize OpenAI Client\n",
    "\n",
    "The following code initializes the OpenAI client using a securely stored API key retrieved from AWS Secrets Manager."
   ]
  },
  {
   "cell_type": "code",
   "execution_count": 4,
   "id": "921be4e1-921f-4c84-b68d-fc72b435cc3a",
   "metadata": {
    "scrolled": true
   },
   "outputs": [],
   "source": [
    "client = OpenAI(api_key= get_secret('openai')['api_key'])"
   ]
  },
  {
   "cell_type": "markdown",
   "id": "860098d7-cfcc-4791-9b42-c526f8ff620a",
   "metadata": {},
   "source": [
    "## Load and Analyze the Diamonds Dataset\n",
    "\n",
    "This notebook uses the **diamonds dataset ([diamonds.csv](https://github.com/lbsocial/data-analysis-with-generative-ai/blob/main/diamonds.csv))**, which contains detailed attributes of diamonds, including weight, color, clarity, and price.\n",
    "\n",
    "One interesting pattern in the dataset is that **diamonds with \"IF\" (Internally Flawless) clarity tend to have the lowest average price** compared to other clarity grades. This observation is counterintuitive, as one might expect the highest-clarity diamonds to be the most expensive."
   ]
  },
  {
   "cell_type": "code",
   "execution_count": 5,
   "id": "ebef8c09-e485-4bea-b86b-275cce615b63",
   "metadata": {},
   "outputs": [
    {
     "ename": "FileNotFoundError",
     "evalue": "[Errno 2] No such file or directory: 'diamonds.csv'",
     "output_type": "error",
     "traceback": [
      "\u001b[0;31m---------------------------------------------------------------------------\u001b[0m",
      "\u001b[0;31mFileNotFoundError\u001b[0m                         Traceback (most recent call last)",
      "Cell \u001b[0;32mIn[5], line 1\u001b[0m\n\u001b[0;32m----> 1\u001b[0m df \u001b[38;5;241m=\u001b[39m \u001b[43mpd\u001b[49m\u001b[38;5;241;43m.\u001b[39;49m\u001b[43mread_csv\u001b[49m\u001b[43m(\u001b[49m\u001b[38;5;124;43m'\u001b[39;49m\u001b[38;5;124;43mdiamonds.csv\u001b[39;49m\u001b[38;5;124;43m'\u001b[39;49m\u001b[43m)\u001b[49m\n\u001b[1;32m      2\u001b[0m data_json \u001b[38;5;241m=\u001b[39m df\u001b[38;5;241m.\u001b[39mto_json(orient\u001b[38;5;241m=\u001b[39m\u001b[38;5;124m\"\u001b[39m\u001b[38;5;124mrecords\u001b[39m\u001b[38;5;124m\"\u001b[39m)\n\u001b[1;32m      3\u001b[0m df\u001b[38;5;241m.\u001b[39mhead()\n",
      "File \u001b[0;32m~/anaconda3/envs/python3/lib/python3.10/site-packages/pandas/util/_decorators.py:211\u001b[0m, in \u001b[0;36mdeprecate_kwarg.<locals>._deprecate_kwarg.<locals>.wrapper\u001b[0;34m(*args, **kwargs)\u001b[0m\n\u001b[1;32m    209\u001b[0m     \u001b[38;5;28;01melse\u001b[39;00m:\n\u001b[1;32m    210\u001b[0m         kwargs[new_arg_name] \u001b[38;5;241m=\u001b[39m new_arg_value\n\u001b[0;32m--> 211\u001b[0m \u001b[38;5;28;01mreturn\u001b[39;00m \u001b[43mfunc\u001b[49m\u001b[43m(\u001b[49m\u001b[38;5;241;43m*\u001b[39;49m\u001b[43margs\u001b[49m\u001b[43m,\u001b[49m\u001b[43m \u001b[49m\u001b[38;5;241;43m*\u001b[39;49m\u001b[38;5;241;43m*\u001b[39;49m\u001b[43mkwargs\u001b[49m\u001b[43m)\u001b[49m\n",
      "File \u001b[0;32m~/anaconda3/envs/python3/lib/python3.10/site-packages/pandas/util/_decorators.py:331\u001b[0m, in \u001b[0;36mdeprecate_nonkeyword_arguments.<locals>.decorate.<locals>.wrapper\u001b[0;34m(*args, **kwargs)\u001b[0m\n\u001b[1;32m    325\u001b[0m \u001b[38;5;28;01mif\u001b[39;00m \u001b[38;5;28mlen\u001b[39m(args) \u001b[38;5;241m>\u001b[39m num_allow_args:\n\u001b[1;32m    326\u001b[0m     warnings\u001b[38;5;241m.\u001b[39mwarn(\n\u001b[1;32m    327\u001b[0m         msg\u001b[38;5;241m.\u001b[39mformat(arguments\u001b[38;5;241m=\u001b[39m_format_argument_list(allow_args)),\n\u001b[1;32m    328\u001b[0m         \u001b[38;5;167;01mFutureWarning\u001b[39;00m,\n\u001b[1;32m    329\u001b[0m         stacklevel\u001b[38;5;241m=\u001b[39mfind_stack_level(),\n\u001b[1;32m    330\u001b[0m     )\n\u001b[0;32m--> 331\u001b[0m \u001b[38;5;28;01mreturn\u001b[39;00m \u001b[43mfunc\u001b[49m\u001b[43m(\u001b[49m\u001b[38;5;241;43m*\u001b[39;49m\u001b[43margs\u001b[49m\u001b[43m,\u001b[49m\u001b[43m \u001b[49m\u001b[38;5;241;43m*\u001b[39;49m\u001b[38;5;241;43m*\u001b[39;49m\u001b[43mkwargs\u001b[49m\u001b[43m)\u001b[49m\n",
      "File \u001b[0;32m~/anaconda3/envs/python3/lib/python3.10/site-packages/pandas/io/parsers/readers.py:950\u001b[0m, in \u001b[0;36mread_csv\u001b[0;34m(filepath_or_buffer, sep, delimiter, header, names, index_col, usecols, squeeze, prefix, mangle_dupe_cols, dtype, engine, converters, true_values, false_values, skipinitialspace, skiprows, skipfooter, nrows, na_values, keep_default_na, na_filter, verbose, skip_blank_lines, parse_dates, infer_datetime_format, keep_date_col, date_parser, dayfirst, cache_dates, iterator, chunksize, compression, thousands, decimal, lineterminator, quotechar, quoting, doublequote, escapechar, comment, encoding, encoding_errors, dialect, error_bad_lines, warn_bad_lines, on_bad_lines, delim_whitespace, low_memory, memory_map, float_precision, storage_options)\u001b[0m\n\u001b[1;32m    935\u001b[0m kwds_defaults \u001b[38;5;241m=\u001b[39m _refine_defaults_read(\n\u001b[1;32m    936\u001b[0m     dialect,\n\u001b[1;32m    937\u001b[0m     delimiter,\n\u001b[0;32m   (...)\u001b[0m\n\u001b[1;32m    946\u001b[0m     defaults\u001b[38;5;241m=\u001b[39m{\u001b[38;5;124m\"\u001b[39m\u001b[38;5;124mdelimiter\u001b[39m\u001b[38;5;124m\"\u001b[39m: \u001b[38;5;124m\"\u001b[39m\u001b[38;5;124m,\u001b[39m\u001b[38;5;124m\"\u001b[39m},\n\u001b[1;32m    947\u001b[0m )\n\u001b[1;32m    948\u001b[0m kwds\u001b[38;5;241m.\u001b[39mupdate(kwds_defaults)\n\u001b[0;32m--> 950\u001b[0m \u001b[38;5;28;01mreturn\u001b[39;00m \u001b[43m_read\u001b[49m\u001b[43m(\u001b[49m\u001b[43mfilepath_or_buffer\u001b[49m\u001b[43m,\u001b[49m\u001b[43m \u001b[49m\u001b[43mkwds\u001b[49m\u001b[43m)\u001b[49m\n",
      "File \u001b[0;32m~/anaconda3/envs/python3/lib/python3.10/site-packages/pandas/io/parsers/readers.py:605\u001b[0m, in \u001b[0;36m_read\u001b[0;34m(filepath_or_buffer, kwds)\u001b[0m\n\u001b[1;32m    602\u001b[0m _validate_names(kwds\u001b[38;5;241m.\u001b[39mget(\u001b[38;5;124m\"\u001b[39m\u001b[38;5;124mnames\u001b[39m\u001b[38;5;124m\"\u001b[39m, \u001b[38;5;28;01mNone\u001b[39;00m))\n\u001b[1;32m    604\u001b[0m \u001b[38;5;66;03m# Create the parser.\u001b[39;00m\n\u001b[0;32m--> 605\u001b[0m parser \u001b[38;5;241m=\u001b[39m \u001b[43mTextFileReader\u001b[49m\u001b[43m(\u001b[49m\u001b[43mfilepath_or_buffer\u001b[49m\u001b[43m,\u001b[49m\u001b[43m \u001b[49m\u001b[38;5;241;43m*\u001b[39;49m\u001b[38;5;241;43m*\u001b[39;49m\u001b[43mkwds\u001b[49m\u001b[43m)\u001b[49m\n\u001b[1;32m    607\u001b[0m \u001b[38;5;28;01mif\u001b[39;00m chunksize \u001b[38;5;129;01mor\u001b[39;00m iterator:\n\u001b[1;32m    608\u001b[0m     \u001b[38;5;28;01mreturn\u001b[39;00m parser\n",
      "File \u001b[0;32m~/anaconda3/envs/python3/lib/python3.10/site-packages/pandas/io/parsers/readers.py:1442\u001b[0m, in \u001b[0;36mTextFileReader.__init__\u001b[0;34m(self, f, engine, **kwds)\u001b[0m\n\u001b[1;32m   1439\u001b[0m     \u001b[38;5;28mself\u001b[39m\u001b[38;5;241m.\u001b[39moptions[\u001b[38;5;124m\"\u001b[39m\u001b[38;5;124mhas_index_names\u001b[39m\u001b[38;5;124m\"\u001b[39m] \u001b[38;5;241m=\u001b[39m kwds[\u001b[38;5;124m\"\u001b[39m\u001b[38;5;124mhas_index_names\u001b[39m\u001b[38;5;124m\"\u001b[39m]\n\u001b[1;32m   1441\u001b[0m \u001b[38;5;28mself\u001b[39m\u001b[38;5;241m.\u001b[39mhandles: IOHandles \u001b[38;5;241m|\u001b[39m \u001b[38;5;28;01mNone\u001b[39;00m \u001b[38;5;241m=\u001b[39m \u001b[38;5;28;01mNone\u001b[39;00m\n\u001b[0;32m-> 1442\u001b[0m \u001b[38;5;28mself\u001b[39m\u001b[38;5;241m.\u001b[39m_engine \u001b[38;5;241m=\u001b[39m \u001b[38;5;28;43mself\u001b[39;49m\u001b[38;5;241;43m.\u001b[39;49m\u001b[43m_make_engine\u001b[49m\u001b[43m(\u001b[49m\u001b[43mf\u001b[49m\u001b[43m,\u001b[49m\u001b[43m \u001b[49m\u001b[38;5;28;43mself\u001b[39;49m\u001b[38;5;241;43m.\u001b[39;49m\u001b[43mengine\u001b[49m\u001b[43m)\u001b[49m\n",
      "File \u001b[0;32m~/anaconda3/envs/python3/lib/python3.10/site-packages/pandas/io/parsers/readers.py:1735\u001b[0m, in \u001b[0;36mTextFileReader._make_engine\u001b[0;34m(self, f, engine)\u001b[0m\n\u001b[1;32m   1733\u001b[0m     \u001b[38;5;28;01mif\u001b[39;00m \u001b[38;5;124m\"\u001b[39m\u001b[38;5;124mb\u001b[39m\u001b[38;5;124m\"\u001b[39m \u001b[38;5;129;01mnot\u001b[39;00m \u001b[38;5;129;01min\u001b[39;00m mode:\n\u001b[1;32m   1734\u001b[0m         mode \u001b[38;5;241m+\u001b[39m\u001b[38;5;241m=\u001b[39m \u001b[38;5;124m\"\u001b[39m\u001b[38;5;124mb\u001b[39m\u001b[38;5;124m\"\u001b[39m\n\u001b[0;32m-> 1735\u001b[0m \u001b[38;5;28mself\u001b[39m\u001b[38;5;241m.\u001b[39mhandles \u001b[38;5;241m=\u001b[39m \u001b[43mget_handle\u001b[49m\u001b[43m(\u001b[49m\n\u001b[1;32m   1736\u001b[0m \u001b[43m    \u001b[49m\u001b[43mf\u001b[49m\u001b[43m,\u001b[49m\n\u001b[1;32m   1737\u001b[0m \u001b[43m    \u001b[49m\u001b[43mmode\u001b[49m\u001b[43m,\u001b[49m\n\u001b[1;32m   1738\u001b[0m \u001b[43m    \u001b[49m\u001b[43mencoding\u001b[49m\u001b[38;5;241;43m=\u001b[39;49m\u001b[38;5;28;43mself\u001b[39;49m\u001b[38;5;241;43m.\u001b[39;49m\u001b[43moptions\u001b[49m\u001b[38;5;241;43m.\u001b[39;49m\u001b[43mget\u001b[49m\u001b[43m(\u001b[49m\u001b[38;5;124;43m\"\u001b[39;49m\u001b[38;5;124;43mencoding\u001b[39;49m\u001b[38;5;124;43m\"\u001b[39;49m\u001b[43m,\u001b[49m\u001b[43m \u001b[49m\u001b[38;5;28;43;01mNone\u001b[39;49;00m\u001b[43m)\u001b[49m\u001b[43m,\u001b[49m\n\u001b[1;32m   1739\u001b[0m \u001b[43m    \u001b[49m\u001b[43mcompression\u001b[49m\u001b[38;5;241;43m=\u001b[39;49m\u001b[38;5;28;43mself\u001b[39;49m\u001b[38;5;241;43m.\u001b[39;49m\u001b[43moptions\u001b[49m\u001b[38;5;241;43m.\u001b[39;49m\u001b[43mget\u001b[49m\u001b[43m(\u001b[49m\u001b[38;5;124;43m\"\u001b[39;49m\u001b[38;5;124;43mcompression\u001b[39;49m\u001b[38;5;124;43m\"\u001b[39;49m\u001b[43m,\u001b[49m\u001b[43m \u001b[49m\u001b[38;5;28;43;01mNone\u001b[39;49;00m\u001b[43m)\u001b[49m\u001b[43m,\u001b[49m\n\u001b[1;32m   1740\u001b[0m \u001b[43m    \u001b[49m\u001b[43mmemory_map\u001b[49m\u001b[38;5;241;43m=\u001b[39;49m\u001b[38;5;28;43mself\u001b[39;49m\u001b[38;5;241;43m.\u001b[39;49m\u001b[43moptions\u001b[49m\u001b[38;5;241;43m.\u001b[39;49m\u001b[43mget\u001b[49m\u001b[43m(\u001b[49m\u001b[38;5;124;43m\"\u001b[39;49m\u001b[38;5;124;43mmemory_map\u001b[39;49m\u001b[38;5;124;43m\"\u001b[39;49m\u001b[43m,\u001b[49m\u001b[43m \u001b[49m\u001b[38;5;28;43;01mFalse\u001b[39;49;00m\u001b[43m)\u001b[49m\u001b[43m,\u001b[49m\n\u001b[1;32m   1741\u001b[0m \u001b[43m    \u001b[49m\u001b[43mis_text\u001b[49m\u001b[38;5;241;43m=\u001b[39;49m\u001b[43mis_text\u001b[49m\u001b[43m,\u001b[49m\n\u001b[1;32m   1742\u001b[0m \u001b[43m    \u001b[49m\u001b[43merrors\u001b[49m\u001b[38;5;241;43m=\u001b[39;49m\u001b[38;5;28;43mself\u001b[39;49m\u001b[38;5;241;43m.\u001b[39;49m\u001b[43moptions\u001b[49m\u001b[38;5;241;43m.\u001b[39;49m\u001b[43mget\u001b[49m\u001b[43m(\u001b[49m\u001b[38;5;124;43m\"\u001b[39;49m\u001b[38;5;124;43mencoding_errors\u001b[39;49m\u001b[38;5;124;43m\"\u001b[39;49m\u001b[43m,\u001b[49m\u001b[43m \u001b[49m\u001b[38;5;124;43m\"\u001b[39;49m\u001b[38;5;124;43mstrict\u001b[39;49m\u001b[38;5;124;43m\"\u001b[39;49m\u001b[43m)\u001b[49m\u001b[43m,\u001b[49m\n\u001b[1;32m   1743\u001b[0m \u001b[43m    \u001b[49m\u001b[43mstorage_options\u001b[49m\u001b[38;5;241;43m=\u001b[39;49m\u001b[38;5;28;43mself\u001b[39;49m\u001b[38;5;241;43m.\u001b[39;49m\u001b[43moptions\u001b[49m\u001b[38;5;241;43m.\u001b[39;49m\u001b[43mget\u001b[49m\u001b[43m(\u001b[49m\u001b[38;5;124;43m\"\u001b[39;49m\u001b[38;5;124;43mstorage_options\u001b[39;49m\u001b[38;5;124;43m\"\u001b[39;49m\u001b[43m,\u001b[49m\u001b[43m \u001b[49m\u001b[38;5;28;43;01mNone\u001b[39;49;00m\u001b[43m)\u001b[49m\u001b[43m,\u001b[49m\n\u001b[1;32m   1744\u001b[0m \u001b[43m\u001b[49m\u001b[43m)\u001b[49m\n\u001b[1;32m   1745\u001b[0m \u001b[38;5;28;01massert\u001b[39;00m \u001b[38;5;28mself\u001b[39m\u001b[38;5;241m.\u001b[39mhandles \u001b[38;5;129;01mis\u001b[39;00m \u001b[38;5;129;01mnot\u001b[39;00m \u001b[38;5;28;01mNone\u001b[39;00m\n\u001b[1;32m   1746\u001b[0m f \u001b[38;5;241m=\u001b[39m \u001b[38;5;28mself\u001b[39m\u001b[38;5;241m.\u001b[39mhandles\u001b[38;5;241m.\u001b[39mhandle\n",
      "File \u001b[0;32m~/anaconda3/envs/python3/lib/python3.10/site-packages/pandas/io/common.py:856\u001b[0m, in \u001b[0;36mget_handle\u001b[0;34m(path_or_buf, mode, encoding, compression, memory_map, is_text, errors, storage_options)\u001b[0m\n\u001b[1;32m    851\u001b[0m \u001b[38;5;28;01melif\u001b[39;00m \u001b[38;5;28misinstance\u001b[39m(handle, \u001b[38;5;28mstr\u001b[39m):\n\u001b[1;32m    852\u001b[0m     \u001b[38;5;66;03m# Check whether the filename is to be opened in binary mode.\u001b[39;00m\n\u001b[1;32m    853\u001b[0m     \u001b[38;5;66;03m# Binary mode does not support 'encoding' and 'newline'.\u001b[39;00m\n\u001b[1;32m    854\u001b[0m     \u001b[38;5;28;01mif\u001b[39;00m ioargs\u001b[38;5;241m.\u001b[39mencoding \u001b[38;5;129;01mand\u001b[39;00m \u001b[38;5;124m\"\u001b[39m\u001b[38;5;124mb\u001b[39m\u001b[38;5;124m\"\u001b[39m \u001b[38;5;129;01mnot\u001b[39;00m \u001b[38;5;129;01min\u001b[39;00m ioargs\u001b[38;5;241m.\u001b[39mmode:\n\u001b[1;32m    855\u001b[0m         \u001b[38;5;66;03m# Encoding\u001b[39;00m\n\u001b[0;32m--> 856\u001b[0m         handle \u001b[38;5;241m=\u001b[39m \u001b[38;5;28;43mopen\u001b[39;49m\u001b[43m(\u001b[49m\n\u001b[1;32m    857\u001b[0m \u001b[43m            \u001b[49m\u001b[43mhandle\u001b[49m\u001b[43m,\u001b[49m\n\u001b[1;32m    858\u001b[0m \u001b[43m            \u001b[49m\u001b[43mioargs\u001b[49m\u001b[38;5;241;43m.\u001b[39;49m\u001b[43mmode\u001b[49m\u001b[43m,\u001b[49m\n\u001b[1;32m    859\u001b[0m \u001b[43m            \u001b[49m\u001b[43mencoding\u001b[49m\u001b[38;5;241;43m=\u001b[39;49m\u001b[43mioargs\u001b[49m\u001b[38;5;241;43m.\u001b[39;49m\u001b[43mencoding\u001b[49m\u001b[43m,\u001b[49m\n\u001b[1;32m    860\u001b[0m \u001b[43m            \u001b[49m\u001b[43merrors\u001b[49m\u001b[38;5;241;43m=\u001b[39;49m\u001b[43merrors\u001b[49m\u001b[43m,\u001b[49m\n\u001b[1;32m    861\u001b[0m \u001b[43m            \u001b[49m\u001b[43mnewline\u001b[49m\u001b[38;5;241;43m=\u001b[39;49m\u001b[38;5;124;43m\"\u001b[39;49m\u001b[38;5;124;43m\"\u001b[39;49m\u001b[43m,\u001b[49m\n\u001b[1;32m    862\u001b[0m \u001b[43m        \u001b[49m\u001b[43m)\u001b[49m\n\u001b[1;32m    863\u001b[0m     \u001b[38;5;28;01melse\u001b[39;00m:\n\u001b[1;32m    864\u001b[0m         \u001b[38;5;66;03m# Binary mode\u001b[39;00m\n\u001b[1;32m    865\u001b[0m         handle \u001b[38;5;241m=\u001b[39m \u001b[38;5;28mopen\u001b[39m(handle, ioargs\u001b[38;5;241m.\u001b[39mmode)\n",
      "\u001b[0;31mFileNotFoundError\u001b[0m: [Errno 2] No such file or directory: 'diamonds.csv'"
     ]
    }
   ],
   "source": [
    "df = pd.read_csv('diamonds.csv')\n",
    "data_json = df.to_json(orient=\"records\")\n",
    "df.head()"
   ]
  },
  {
   "cell_type": "markdown",
   "id": "44df8274-f532-4103-9b8a-a882aa23eb86",
   "metadata": {},
   "source": [
    "## Generate Data Analysis Prompt for OpenAI Model\n",
    "\n",
    "To investigate why diamonds with **IF (Internally Flawless) clarity** have the **lowest average price**, we generate a structured prompt for the OpenAI model. The model will analyze the dataset and generate insights, including **Python code for visualizations**.\n"
   ]
  },
  {
   "cell_type": "code",
   "execution_count": null,
   "id": "09d7ac96-aef2-425c-91ae-6b004a3ccce3",
   "metadata": {},
   "outputs": [],
   "source": [
    "data_prompt = f\"Analyze the provided data and determine why diamonds with IF clarity have the lowest average price. Provide Python-generated charts to support your conclusion. Data: {data_json}\"\n",
    "# print(prompt)"
   ]
  },
  {
   "cell_type": "markdown",
   "id": "0e269bba-2c1a-47e9-9662-3542873fa8ce",
   "metadata": {},
   "source": [
    "## Define a Function to Get Assistance from OpenAI GPT-4o\n",
    "\n",
    "The following function, `openai_gpt_help()`, sends a prompt to OpenAI's **GPT-4o model** and returns a response. It also prints the number of tokens used in the request."
   ]
  },
  {
   "cell_type": "code",
   "execution_count": null,
   "id": "8a02a837-a5c0-409e-92ce-7ae93e58c834",
   "metadata": {},
   "outputs": [],
   "source": [
    "def openai_gpt_help(prompt):\n",
    "    messages = [{\"role\": \"user\", \"content\": prompt}]\n",
    "    response = client.chat.completions.create(\n",
    "        model='gpt-4o',\n",
    "        messages=messages,\n",
    "        temperature = 0\n",
    "    )\n",
    "    token_usage = response.usage\n",
    "    \n",
    "    pprint(f\"Tokens used: {token_usage}\")\n",
    "\n",
    "    return response.choices[0].message.content"
   ]
  },
  {
   "cell_type": "code",
   "execution_count": null,
   "id": "df292b10-8857-4902-b2e4-8dab5602d204",
   "metadata": {},
   "outputs": [],
   "source": [
    "gpt_result = openai_gpt_help(prompt=data_prompt)"
   ]
  },
  {
   "cell_type": "code",
   "execution_count": null,
   "id": "1360e35d-3dda-4447-8b5e-f58d16ad91d3",
   "metadata": {},
   "outputs": [],
   "source": [
    "display(Markdown(gpt_result))"
   ]
  },
  {
   "cell_type": "markdown",
   "id": "c068efcc-c82a-40d8-8d5b-3939f2417a4e",
   "metadata": {},
   "source": [
    "## Define a Function to Get Assistance from OpenAI o1 Model  \n",
    "\n",
    "The following function, `openai_o_help()`, sends a prompt to OpenAI's **o1 reasoning model** and returns a response.  \n",
    "\n",
    "### Key Differences Between o1 and GPT Models:\n",
    "- **Reasoning Effort**: The o1 model allows users to control reasoning depth using `reasoning_effort` (`low`, `medium`, `high`).  \n",
    "- **No Temperature Parameter**: Unlike GPT models, **o1 does not support `temperature`**.  \n",
    "- **Developer Messages Replace System Messages**:  \n",
    "  - Starting with `o1-2024-12-17`, **developer messages** replace **system messages** to align with chain-of-command behavior.  \n",
    "\n",
    "### Best Practices for Prompting o1  \n",
    "- **Keep prompts simple and direct.**  \n",
    "- **Avoid chain-of-thought prompts.** o1 reasons internally, so step-by-step instructions aren't needed.  \n",
    "- **Use delimiters for clarity.** Use Markdown, XML tags, or section titles.  \n",
    "- **Try zero-shot first.** If needed, add few-shot examples that closely match your goal.  \n",
    "- **Be explicit.** Clearly define success criteria and constraints.  \n",
    "- **Markdown is disabled by default.** To enable, start with `\"Formatting re-enabled\"`.  \n",
    "\n",
    "Source: [OpenAI Reasoning Models Best Practices Guide](https://platform.openai.com/docs/guides/reasoning-best-practices).  \n"
   ]
  },
  {
   "cell_type": "code",
   "execution_count": null,
   "id": "89f3d84b-b101-4299-b01a-ee4285c7608d",
   "metadata": {},
   "outputs": [],
   "source": [
    "def openai_o_help(prompt):\n",
    "    messages = [ {\"role\": \"user\", \"content\": prompt}]\n",
    "    response = client.chat.completions.create(\n",
    "        model='o1',\n",
    "        reasoning_effort=\"high\", # low, medium or high\n",
    "        messages=messages,\n",
    "\n",
    "    )\n",
    "    token_usage = response.usage\n",
    "    \n",
    "    pprint(f\"Tokens used: {token_usage}\")\n",
    "\n",
    "    return response.choices[0].message.content"
   ]
  },
  {
   "cell_type": "code",
   "execution_count": null,
   "id": "c5fc9ef3-4510-4faf-995f-31a58134b9a5",
   "metadata": {},
   "outputs": [],
   "source": [
    "o1_result = openai_o_help(prompt=data_prompt)"
   ]
  },
  {
   "cell_type": "code",
   "execution_count": null,
   "id": "17ab95a7-ee31-49c7-b2ad-f77996be5e44",
   "metadata": {},
   "outputs": [],
   "source": [
    "print(o1_result)"
   ]
  },
  {
   "cell_type": "markdown",
   "id": "6db0251d-1b9f-41ec-90b4-c95dc865971d",
   "metadata": {},
   "source": [
    "## Load and Display an Image from a URL\n",
    "\n",
    "This code retrieves an image from a specified URL and displays it using the **PIL (Pillow) library**."
   ]
  },
  {
   "cell_type": "code",
   "execution_count": null,
   "id": "55475ed3-201f-420c-9903-f80667d14490",
   "metadata": {},
   "outputs": [],
   "source": [
    "from PIL import Image\n",
    "import requests\n",
    "from io import BytesIO\n",
    "\n",
    "image_url = \"https://miro.medium.com/v2/resize:fit:4800/format:webp/1*VPRpf0YnchAwN0mjeAz4pA.jpeg\"\n",
    "response = requests.get(image_url)\n",
    "img = Image.open(BytesIO(response.content))\n",
    "img.show()"
   ]
  },
  {
   "cell_type": "markdown",
   "id": "49be1131-1a04-4e7a-a2cb-1fbee74ae817",
   "metadata": {},
   "source": [
    "## Create an Image Analysis Prompt\n",
    "\n",
    "The following code constructs a **structured prompt** for analyzing an image. It sends both **text input** and an **image URL** to an AI model for interpretation.\n"
   ]
  },
  {
   "cell_type": "code",
   "execution_count": null,
   "id": "bcd4906e-85e1-44d8-b789-d502224f0438",
   "metadata": {},
   "outputs": [],
   "source": [
    "image_prompt = [\n",
    "                    {\"type\": \"text\", \"text\": 'what is wrong with this image?'},\n",
    "                    {\"type\": \"image_url\", \"image_url\": {\n",
    "                        \"url\": image_url}\n",
    "                    }\n",
    "                ]"
   ]
  },
  {
   "cell_type": "code",
   "execution_count": null,
   "id": "c67246b5-cd12-4195-91a3-5b970bd5a244",
   "metadata": {},
   "outputs": [],
   "source": [
    "gpt_result = openai_gpt_help(prompt=image_prompt)"
   ]
  },
  {
   "cell_type": "code",
   "execution_count": null,
   "id": "7a2eed42-879d-4c11-9eb6-d104db8cbe70",
   "metadata": {},
   "outputs": [],
   "source": [
    "display(Markdown(gpt_result))"
   ]
  },
  {
   "cell_type": "code",
   "execution_count": null,
   "id": "54c18ebd-828d-4ca0-b7aa-471ff519dbe2",
   "metadata": {},
   "outputs": [],
   "source": [
    "o1_result = openai_o_help(prompt=image_prompt)"
   ]
  },
  {
   "cell_type": "code",
   "execution_count": null,
   "id": "f492052c-4084-4d7d-af27-ab3cd503ef1a",
   "metadata": {},
   "outputs": [],
   "source": [
    "display(Markdown(o1_result))"
   ]
  },
  {
   "cell_type": "markdown",
   "id": "f392719c-faa6-4438-a5ea-5e8e6d613d90",
   "metadata": {},
   "source": [
    "## References  \n",
    "- **OpenAI Reasoning Models Guide**: [OpenAI](https://platform.openai.com/docs/guides/reasoning)  \n",
    "- **OpenAI Reasoning Models Best Practices Guide**: [OpenAI](https://platform.openai.com/docs/guides/reasoning-best-practices)  \n",
    "- **Colin Jarvis. “Reasoning with O1.” DeepLearning.AI.** Accessed February 14, 2025. [DeepLearning.AI](https://www.deeplearning.ai/short-courses/reasoning-with-o1/)  "
   ]
  },
  {
   "cell_type": "code",
   "execution_count": null,
   "id": "833c8676-093b-48e0-a3f0-613076c09a1c",
   "metadata": {},
   "outputs": [],
   "source": []
  }
 ],
 "metadata": {
  "kernelspec": {
   "display_name": "conda_python3",
   "language": "python",
   "name": "conda_python3"
  },
  "language_info": {
   "codemirror_mode": {
    "name": "ipython",
    "version": 3
   },
   "file_extension": ".py",
   "mimetype": "text/x-python",
   "name": "python",
   "nbconvert_exporter": "python",
   "pygments_lexer": "ipython3",
   "version": "3.10.17"
  }
 },
 "nbformat": 4,
 "nbformat_minor": 5
}
